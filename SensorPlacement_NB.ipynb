{
 "cells": [
  {
   "cell_type": "markdown",
   "id": "8cdd5b88-9568-4d0c-a3fb-e1aa081215d0",
   "metadata": {},
   "source": [
    "# Sensor Placement - KY 2 Network\n",
    "Operations Research for Supply Chains I  \n",
    "ISyE 6333, Fall 2021"
   ]
  },
  {
   "cell_type": "markdown",
   "id": "627de9d8-6e3e-4757-a692-2dec4ad86fde",
   "metadata": {
    "tags": []
   },
   "source": [
    "# Problem Background\n",
    "Ensuring the security of critical infrastructures such as water distribution networks is crucial for the welfare and prosperity of our society. Such infrastructure networks may span huge geographical\n",
    "areas, and are inherently vulnerable to disruptions. In recent years, numerous incidents have been reported that highlight the [inherent vulnerability of infrastructure networks](https://www.scientificamerican.com/article/thousands-of-u-s-areas-afflicted-with-lead-poisoning-beyond-flints/). Operations Research can provide new solutions to help the water utilities to proactively recognize the security risks to their infrastructure, and develop specific capabilities to reduce them.\n",
    "\n",
    "In this project, a water utility company, and more specifically a network operator, is interested in allocating pressure sensors in order to detect pipe bursts in its water distribution network. The\n",
    "network is located in Kentucky, and is composed of 1123 pipes and 811 nodes. It provides 2.09 million gallons of water per day to its 5,010 customers. The layout of the water distribution network is given in Figure 1.\n",
    "\n",
    "The network operator possesses b pressure sensors that they wish to position on nodes of the network in order to detect pipe bursts. We denote $V$ the set of 811 nodes/sensor locations, and $E$ the set of 1123 network pipes. Each node can receive at most one sensor. You will be given a detection matrix, denoted $F ∈ \\{0, 1\\}^{|E|×|V|}$, that represents the sensing capabilities of the pressure sensors. F is a binary matrix of size $|E| × |V| = 1123 × 811$, and is such that $f_{e,v} = 1$ if a sensor placed at location $v ∈ V$ can detect a burst of pipe $e ∈ E$.\n",
    "\n",
    "The goal of this project is to determine the optimal location of the b sensors to protect the network as best as possible (we will formalize this notion below)."
   ]
  },
  {
   "cell_type": "markdown",
   "id": "a15320a8-345e-401b-a2ed-768a7cf201da",
   "metadata": {},
   "source": [
    "# Imports and Setup"
   ]
  },
  {
   "cell_type": "code",
   "execution_count": 1,
   "id": "cb1e23a9",
   "metadata": {},
   "outputs": [],
   "source": [
    "import pandas as pd\n",
    "import numpy as np\n",
    "import copy\n",
    "import matplotlib as mpl\n",
    "import matplotlib.pyplot as plt\n",
    "import seaborn as sb\n",
    "\n",
    "from pulp import *\n",
    "\n",
    "import tabulate as tb\n",
    "\n",
    "def get_lx_table(caption, data, headers, precision = \".2f\"):\n",
    "    tbl = []\n",
    "    tbl.append(\"\\\\begin{table}[H]\")\n",
    "    tbl.append(\"\\\\centering\")\n",
    "    #latex_tables.append(\"\\\\textbf{\" + heading + \"}\")\n",
    "    tbl.append(tb.tabulate(data, headers=headers, floatfmt= precision, tablefmt=\"latex_booktabs\"))\n",
    "    tbl.append(\"\\\\caption{{ {:s} }}\".format(caption))\n",
    "    tbl.append(\"\\\\vspace{10pt}\")\n",
    "    tbl.append(\"\\\\end{table}\")\n",
    "    tbl.append(\"\")\n",
    "    return \"\\n\".join(tbl)\n",
    "\n",
    "def save_lx_table(filename, caption, data, headers, precision = \".2f\"):\n",
    "    with open(filename, \"w\") as f:\n",
    "        f.write(get_lx_table(caption, data, headers, precision))"
   ]
  },
  {
   "cell_type": "markdown",
   "id": "448275d8",
   "metadata": {},
   "source": [
    "Note: This notebook uses Gurobi solver on the instructor's recommendation. The Gurobi solver is >10x more efficient than the default puLp IP solver."
   ]
  },
  {
   "cell_type": "code",
   "execution_count": 2,
   "id": "0927ad97-a733-4c21-9061-6e2d8a42cc6b",
   "metadata": {},
   "outputs": [
    {
     "data": {
      "text/plain": [
       "['GUROBI_CMD', 'PULP_CBC_CMD', 'PULP_CHOCO_CMD']"
      ]
     },
     "execution_count": 2,
     "metadata": {},
     "output_type": "execute_result"
    }
   ],
   "source": [
    "listSolvers(onlyAvailable=True)"
   ]
  },
  {
   "cell_type": "code",
   "execution_count": 3,
   "id": "6a023c8d",
   "metadata": {},
   "outputs": [
    {
     "name": "stdout",
     "output_type": "stream",
     "text": [
      "(1123, 811)\n",
      "(1123, 1)\n"
     ]
    }
   ],
   "source": [
    "#Read in the data\n",
    "pd_DM = pd.read_csv(\"Detection_Matrix.csv\", header=None)\n",
    "pd_crit = pd.read_csv(\"Criticality.csv\", names = ['Node'])\n",
    "\n",
    "print(pd_DM.shape)\n",
    "print(pd_crit.shape)"
   ]
  },
  {
   "cell_type": "code",
   "execution_count": 4,
   "id": "2b4b0d1a",
   "metadata": {},
   "outputs": [],
   "source": [
    "#Set up axis labels for nodes and pipes\n",
    "pd_DM.set_axis(['N' + str(i).zfill(3) for i in range(len(pd_DM.columns))], axis = 1, inplace=True)\n",
    "pd_DM.set_axis(['P' + str(i).zfill(4) for i in range(len(pd_DM))], axis = 0, inplace=True)\n",
    "nodelist = pd_DM.columns\n",
    "pipelist = pd_DM.index\n",
    "\n",
    "#Set up labels for criticality dataset\n",
    "pd_crit.set_axis(['P' + str(i).zfill(4) for i in range(len(pd_crit))], axis = 0, inplace=True)\n",
    "#Change criticality to 100-based scale\n",
    "pd_crit_int = (pd_crit['Node'] * 100).apply(lambda x: round(x))"
   ]
  },
  {
   "cell_type": "code",
   "execution_count": 5,
   "id": "882b9b09",
   "metadata": {},
   "outputs": [
    {
     "data": {
      "text/html": [
       "<div>\n",
       "<style scoped>\n",
       "    .dataframe tbody tr th:only-of-type {\n",
       "        vertical-align: middle;\n",
       "    }\n",
       "\n",
       "    .dataframe tbody tr th {\n",
       "        vertical-align: top;\n",
       "    }\n",
       "\n",
       "    .dataframe thead th {\n",
       "        text-align: right;\n",
       "    }\n",
       "</style>\n",
       "<table border=\"1\" class=\"dataframe\">\n",
       "  <thead>\n",
       "    <tr style=\"text-align: right;\">\n",
       "      <th></th>\n",
       "      <th>N000</th>\n",
       "      <th>N001</th>\n",
       "      <th>N002</th>\n",
       "      <th>N003</th>\n",
       "      <th>N004</th>\n",
       "      <th>N005</th>\n",
       "      <th>N006</th>\n",
       "      <th>N007</th>\n",
       "      <th>N008</th>\n",
       "      <th>N009</th>\n",
       "      <th>...</th>\n",
       "      <th>N801</th>\n",
       "      <th>N802</th>\n",
       "      <th>N803</th>\n",
       "      <th>N804</th>\n",
       "      <th>N805</th>\n",
       "      <th>N806</th>\n",
       "      <th>N807</th>\n",
       "      <th>N808</th>\n",
       "      <th>N809</th>\n",
       "      <th>N810</th>\n",
       "    </tr>\n",
       "  </thead>\n",
       "  <tbody>\n",
       "    <tr>\n",
       "      <th>P0000</th>\n",
       "      <td>1</td>\n",
       "      <td>0</td>\n",
       "      <td>0</td>\n",
       "      <td>0</td>\n",
       "      <td>0</td>\n",
       "      <td>0</td>\n",
       "      <td>0</td>\n",
       "      <td>0</td>\n",
       "      <td>0</td>\n",
       "      <td>0</td>\n",
       "      <td>...</td>\n",
       "      <td>0</td>\n",
       "      <td>0</td>\n",
       "      <td>0</td>\n",
       "      <td>0</td>\n",
       "      <td>0</td>\n",
       "      <td>0</td>\n",
       "      <td>0</td>\n",
       "      <td>0</td>\n",
       "      <td>0</td>\n",
       "      <td>0</td>\n",
       "    </tr>\n",
       "    <tr>\n",
       "      <th>P0001</th>\n",
       "      <td>0</td>\n",
       "      <td>1</td>\n",
       "      <td>0</td>\n",
       "      <td>0</td>\n",
       "      <td>0</td>\n",
       "      <td>0</td>\n",
       "      <td>0</td>\n",
       "      <td>1</td>\n",
       "      <td>1</td>\n",
       "      <td>0</td>\n",
       "      <td>...</td>\n",
       "      <td>0</td>\n",
       "      <td>1</td>\n",
       "      <td>1</td>\n",
       "      <td>1</td>\n",
       "      <td>1</td>\n",
       "      <td>0</td>\n",
       "      <td>0</td>\n",
       "      <td>0</td>\n",
       "      <td>0</td>\n",
       "      <td>0</td>\n",
       "    </tr>\n",
       "    <tr>\n",
       "      <th>P0002</th>\n",
       "      <td>0</td>\n",
       "      <td>0</td>\n",
       "      <td>0</td>\n",
       "      <td>0</td>\n",
       "      <td>0</td>\n",
       "      <td>0</td>\n",
       "      <td>0</td>\n",
       "      <td>0</td>\n",
       "      <td>0</td>\n",
       "      <td>0</td>\n",
       "      <td>...</td>\n",
       "      <td>0</td>\n",
       "      <td>0</td>\n",
       "      <td>0</td>\n",
       "      <td>0</td>\n",
       "      <td>0</td>\n",
       "      <td>0</td>\n",
       "      <td>0</td>\n",
       "      <td>0</td>\n",
       "      <td>0</td>\n",
       "      <td>0</td>\n",
       "    </tr>\n",
       "    <tr>\n",
       "      <th>P0003</th>\n",
       "      <td>0</td>\n",
       "      <td>0</td>\n",
       "      <td>1</td>\n",
       "      <td>1</td>\n",
       "      <td>1</td>\n",
       "      <td>0</td>\n",
       "      <td>0</td>\n",
       "      <td>0</td>\n",
       "      <td>0</td>\n",
       "      <td>1</td>\n",
       "      <td>...</td>\n",
       "      <td>0</td>\n",
       "      <td>1</td>\n",
       "      <td>1</td>\n",
       "      <td>0</td>\n",
       "      <td>0</td>\n",
       "      <td>1</td>\n",
       "      <td>1</td>\n",
       "      <td>1</td>\n",
       "      <td>1</td>\n",
       "      <td>1</td>\n",
       "    </tr>\n",
       "    <tr>\n",
       "      <th>P0004</th>\n",
       "      <td>0</td>\n",
       "      <td>0</td>\n",
       "      <td>0</td>\n",
       "      <td>0</td>\n",
       "      <td>0</td>\n",
       "      <td>0</td>\n",
       "      <td>0</td>\n",
       "      <td>0</td>\n",
       "      <td>0</td>\n",
       "      <td>0</td>\n",
       "      <td>...</td>\n",
       "      <td>0</td>\n",
       "      <td>0</td>\n",
       "      <td>0</td>\n",
       "      <td>0</td>\n",
       "      <td>0</td>\n",
       "      <td>0</td>\n",
       "      <td>0</td>\n",
       "      <td>0</td>\n",
       "      <td>0</td>\n",
       "      <td>0</td>\n",
       "    </tr>\n",
       "  </tbody>\n",
       "</table>\n",
       "<p>5 rows × 811 columns</p>\n",
       "</div>"
      ],
      "text/plain": [
       "       N000  N001  N002  N003  N004  N005  N006  N007  N008  N009  ...  N801  \\\n",
       "P0000     1     0     0     0     0     0     0     0     0     0  ...     0   \n",
       "P0001     0     1     0     0     0     0     0     1     1     0  ...     0   \n",
       "P0002     0     0     0     0     0     0     0     0     0     0  ...     0   \n",
       "P0003     0     0     1     1     1     0     0     0     0     1  ...     0   \n",
       "P0004     0     0     0     0     0     0     0     0     0     0  ...     0   \n",
       "\n",
       "       N802  N803  N804  N805  N806  N807  N808  N809  N810  \n",
       "P0000     0     0     0     0     0     0     0     0     0  \n",
       "P0001     1     1     1     1     0     0     0     0     0  \n",
       "P0002     0     0     0     0     0     0     0     0     0  \n",
       "P0003     1     1     0     0     1     1     1     1     1  \n",
       "P0004     0     0     0     0     0     0     0     0     0  \n",
       "\n",
       "[5 rows x 811 columns]"
      ]
     },
     "execution_count": 5,
     "metadata": {},
     "output_type": "execute_result"
    }
   ],
   "source": [
    "# with pd.option_context(\"display.max_rows\", 1500):\n",
    "#      display(pd_DM.head(1500))\n",
    "        \n",
    "pd_DM.head()"
   ]
  },
  {
   "cell_type": "markdown",
   "id": "c0dc242b",
   "metadata": {},
   "source": [
    "# Initial Analysis"
   ]
  },
  {
   "cell_type": "code",
   "execution_count": 6,
   "id": "bda5c434",
   "metadata": {},
   "outputs": [
    {
     "data": {
      "image/png": "[encoded data removed]",
      "text/plain": [
       "<Figure size 432x288 with 1 Axes>"
      ]
     },
     "metadata": {
      "needs_background": "light"
     },
     "output_type": "display_data"
    }
   ],
   "source": [
    "#Creating histogram to show distribution of all node's detection ability: How many pipes are detected by each given node?\n",
    "pipes_detPN=[]\n",
    "for i in pd_DM.columns:\n",
    "    pipes_detPN.append(sum(pd_DM[i]))\n",
    "    \n",
    "pipedet=pd.DataFrame(pipes_detPN).hist(bins=range(0,400,25), histtype='bar', rwidth=0.85)\n",
    "\n",
    "for ax in pipedet.flatten():\n",
    "    ax.set_xlabel(\"Pipes\")\n",
    "    ax.set_ylabel(\"Nodes\")\n",
    "    ax.set_title('')\n",
    "#There are ~82 nodes that can detect between 0 and 25 pipes each"
   ]
  },
  {
   "cell_type": "code",
   "execution_count": 7,
   "id": "8faac0f1",
   "metadata": {},
   "outputs": [
    {
     "data": {
      "image/png": "[encoded data removed]",
      "text/plain": [
       "<Figure size 432x288 with 1 Axes>"
      ]
     },
     "metadata": {
      "needs_background": "light"
     },
     "output_type": "display_data"
    }
   ],
   "source": [
    "#Creating histogram to show how distribution all pipe's sensing coverage: How many nodes can sense each given pipe?\n",
    "nodes_sensedPP=[]\n",
    "for i in range(len(pd_DM)):\n",
    "    nodes_sensedPP.append(sum(pd_DM.iloc[i]))\n",
    "\n",
    "nodesen=pd.DataFrame(nodes_sensedPP).hist(bins=range(0,250,25), histtype='bar', rwidth=0.85)\n",
    "\n",
    "for ax in nodesen.flatten():\n",
    "    ax.set_xlabel(\"Nodes\")\n",
    "    ax.set_ylabel(\"Pipes\")\n",
    "    ax.set_title('')\n",
    "#There are ~110 pipes that can be sensed by 0-25 nodes"
   ]
  },
  {
   "cell_type": "markdown",
   "id": "a6bf7b70-93da-4c9b-9426-4b1a9bdca52f",
   "metadata": {},
   "source": [
    "# (A) Detection - Global Maximization\n",
    "In this first question, it is assumed that each pipe independently bursts with probability 0.1. Formulate an integer program that determines the location of the b sensors that maximizes the expected number of pipe bursts that are detected. Code and solve the optimization model formulated for $b ∈ [\\![ 0, 20 ]\\!]$ using Gurobi Solver. \n",
    "\n",
    "Plot and analyze the optimal value of the problem as a function of the number of sensors $b$. What is the minimum number of sensors to detect all pipe bursts?"
   ]
  },
  {
   "cell_type": "code",
   "execution_count": 8,
   "id": "c5ce2557",
   "metadata": {},
   "outputs": [],
   "source": [
    "# Initialize Problem\n",
    "problemA = LpProblem(\"Sensor_Placement\", LpMaximize)\n",
    "\n",
    "#Binary variables denoting if a sensor is placed on a node\n",
    "node_varsA = LpVariable.dicts(\"\",pd_DM.columns,0,1,cat='Binary')\n",
    "\n",
    "#Binary variables denoting if a sensor is detecting a pipe\n",
    "pipe_varsA = LpVariable.dicts(\"\",pd_DM.index,0,1,cat='Binary')\n",
    "\n",
    "#Objective function - sum of pipes that are detected by a sensor\n",
    "problemA += lpSum([pipe for pid, pipe in pipe_varsA.items()])\n",
    "\n",
    "#Linking constraints: pipe binary var >= associated node binary var\n",
    "for n in nodelist:\n",
    "    for p in pd_DM[n][pd_DM[n] == 1].index: #find all pipes linked to a node\n",
    "        problemA += pipe_varsA[p] >= node_varsA[n] # setup a constraint for each pipe-node combination\n",
    "        \n",
    "#Linking constraints: making sure that p is zero if none of the nodes have sensors\n",
    "for p in pipelist: #for each pipe\n",
    "    all_rel_nodes = pd_DM.loc[p][pd_DM.loc[p] == 1].index #find all nodes touching a pipe\n",
    "    problemA += pipe_varsA[p] <= lpSum([node_varsA[n] for n in all_rel_nodes]) #ensure the constraint"
   ]
  },
  {
   "cell_type": "code",
   "execution_count": 9,
   "id": "fdb250d3",
   "metadata": {},
   "outputs": [],
   "source": [
    "backup_problemA = copy.deepcopy(problemA)"
   ]
  },
  {
   "cell_type": "code",
   "execution_count": 10,
   "id": "4bcdfab0",
   "metadata": {},
   "outputs": [
    {
     "name": "stdout",
     "output_type": "stream",
     "text": [
      "Max_Sensors: 1, Status: Optimal, Objective_Fun: 391.0, Expected_Bursts: 39.1\n",
      "Nodes Placed: ['_N036']\n",
      "Max_Sensors: 2, Status: Optimal, Objective_Fun: 582.0, Expected_Bursts: 58.2\n",
      "Nodes Placed: ['_N042', '_N614']\n",
      "Max_Sensors: 3, Status: Optimal, Objective_Fun: 740.0, Expected_Bursts: 74.0\n",
      "Nodes Placed: ['_N140', '_N614', '_N690']\n",
      "Max_Sensors: 4, Status: Optimal, Objective_Fun: 839.0, Expected_Bursts: 83.9\n",
      "Nodes Placed: ['_N237', '_N614', '_N690', '_N764']\n",
      "Max_Sensors: 5, Status: Optimal, Objective_Fun: 907.0, Expected_Bursts: 90.7\n",
      "Nodes Placed: ['_N140', '_N237', '_N646', '_N690', '_N712']\n",
      "Max_Sensors: 6, Status: Optimal, Objective_Fun: 965.0, Expected_Bursts: 96.5\n",
      "Nodes Placed: ['_N067', '_N287', '_N451', '_N591', '_N595', '_N722']\n",
      "Max_Sensors: 7, Status: Optimal, Objective_Fun: 1000.0, Expected_Bursts: 100.0\n",
      "Nodes Placed: ['_N067', '_N206', '_N451', '_N591', '_N619', '_N712', '_N775']\n",
      "Max_Sensors: 8, Status: Optimal, Objective_Fun: 1034.0, Expected_Bursts: 103.4\n",
      "Nodes Placed: ['_N003', '_N067', '_N103', '_N206', '_N450', '_N591', '_N619', '_N712']\n",
      "Max_Sensors: 9, Status: Optimal, Objective_Fun: 1056.0, Expected_Bursts: 105.6\n",
      "Nodes Placed: ['_N034', '_N067', '_N103', '_N206', '_N233', '_N619', '_N651', '_N712', '_N714']\n",
      "Max_Sensors: 10, Status: Optimal, Objective_Fun: 1071.0, Expected_Bursts: 107.1\n",
      "Nodes Placed: ['_N103', '_N206', '_N240', '_N267', '_N344', '_N439', '_N619', '_N712', '_N714', '_N798']\n",
      "Max_Sensors: 11, Status: Optimal, Objective_Fun: 1083.0, Expected_Bursts: 108.3\n",
      "Nodes Placed: ['_N078', '_N103', '_N206', '_N240', '_N344', '_N392', '_N438', '_N619', '_N712', '_N714', '_N798']\n",
      "Max_Sensors: 12, Status: Optimal, Objective_Fun: 1092.0, Expected_Bursts: 109.2\n",
      "Nodes Placed: ['_N077', '_N078', '_N103', '_N206', '_N240', '_N344', '_N392', '_N439', '_N482', '_N712', '_N714', '_N798']\n",
      "Max_Sensors: 13, Status: Optimal, Objective_Fun: 1100.0, Expected_Bursts: 110.0\n",
      "Nodes Placed: ['_N078', '_N103', '_N164', '_N205', '_N206', '_N233', '_N277', '_N392', '_N446', '_N482', '_N651', '_N712', '_N720']\n",
      "Max_Sensors: 14, Status: Optimal, Objective_Fun: 1107.0, Expected_Bursts: 110.7\n",
      "Nodes Placed: ['_N103', '_N164', '_N233', '_N267', '_N314', '_N334', '_N355', '_N392', '_N394', '_N482', '_N528', '_N712', '_N720', '_N786']\n",
      "Max_Sensors: 15, Status: Optimal, Objective_Fun: 1113.0, Expected_Bursts: 111.3\n",
      "Nodes Placed: ['_N103', '_N164', '_N233', '_N267', '_N314', '_N334', '_N355', '_N383', '_N392', '_N394', '_N482', '_N528', '_N712', '_N720', '_N786']\n",
      "Max_Sensors: 16, Status: Optimal, Objective_Fun: 1118.0, Expected_Bursts: 111.8\n",
      "Nodes Placed: ['_N058', '_N103', '_N156', '_N164', '_N267', '_N294', '_N355', '_N383', '_N392', '_N394', '_N438', '_N482', '_N528', '_N651', '_N712', '_N786']\n",
      "Max_Sensors: 17, Status: Optimal, Objective_Fun: 1120.0, Expected_Bursts: 112.0\n",
      "Nodes Placed: ['_N059', '_N078', '_N103', '_N164', '_N185', '_N233', '_N277', '_N334', '_N355', '_N392', '_N394', '_N439', '_N482', '_N528', '_N705', '_N712', '_N786']\n",
      "Max_Sensors: 18, Status: Optimal, Objective_Fun: 1121.0, Expected_Bursts: 112.1\n",
      "Nodes Placed: ['_N058', '_N103', '_N156', '_N267', '_N294', '_N326', '_N383', '_N394', '_N438', '_N482', '_N513', '_N528', '_N631', '_N712', '_N722', '_N728', '_N739', '_N798']\n",
      "Max_Sensors: 19, Status: Optimal, Objective_Fun: 1123.0, Expected_Bursts: 112.3\n",
      "Nodes Placed: ['_N016', '_N058', '_N077', '_N078', '_N142', '_N168', '_N173', '_N206', '_N277', '_N318', '_N383', '_N429', '_N438', '_N482', '_N528', '_N561', '_N672', '_N725', '_N786']\n",
      "Max_Sensors: 20, Status: Optimal, Objective_Fun: 1123.0, Expected_Bursts: 112.3\n",
      "Nodes Placed: ['_N058', '_N153', '_N156', '_N267', '_N294', '_N318', '_N383', '_N394', '_N407', '_N438', '_N482', '_N513', '_N528', '_N603', '_N648', '_N712', '_N739', '_N785', '_N786', '_N798']\n"
     ]
    }
   ],
   "source": [
    "# Results list as DF\n",
    "df_listA = []\n",
    "\n",
    "# Iterate from 1 to 20 sensors\n",
    "for limit in range(1,21):\n",
    "    problemA = copy.deepcopy(backup_problemA)\n",
    "    # Set sensor number constraint\n",
    "    problemA += lpSum([node_varsA[n] for n in nodelist]) <= limit\n",
    "    \n",
    "    problemA.solve(GUROBI_CMD(msg=False))\n",
    "    \n",
    "    opt = LpStatus[problemA.status]\n",
    "    of_val = value(problemA.objective)\n",
    "    np_list = []\n",
    "    for j, i in node_varsA.items():\n",
    "        if i.varValue != 0:\n",
    "            np_list.append(i.name)\n",
    "    \n",
    "    # Output results\n",
    "    print('Max_Sensors: {}, Status: {}, Objective_Fun: {}, Expected_Bursts: {}'.format(limit, opt, of_val, of_val/10))\n",
    "    print('Nodes Placed: {}'.format(np_list))\n",
    "    # Append results to DF\n",
    "    df_listA.append(pd.DataFrame([[limit, opt, of_val, of_val/10, np_list]], \n",
    "                                columns = ['Max_Sensors', 'Status', 'Objective_Fun', 'Expected_Bursts', 'Nodes_Placed']))"
   ]
  },
  {
   "cell_type": "code",
   "execution_count": 11,
   "id": "d621e5a7",
   "metadata": {},
   "outputs": [],
   "source": [
    "# Compile Results\n",
    "resultsA = pd.concat(df_listA).reset_index(drop=True)"
   ]
  },
  {
   "cell_type": "code",
   "execution_count": 12,
   "id": "6746f25e-0090-4867-bed7-6642ae4a7526",
   "metadata": {},
   "outputs": [],
   "source": [
    "# Save Results as table\n",
    "# save_lx_table(\"Problem A placement.tex\", \"Sensor placement\", resultsA.drop([\"Status\"], axis=1), resultsA.drop([\"Status\"], axis=1).columns)"
   ]
  },
  {
   "cell_type": "code",
   "execution_count": 13,
   "id": "b62a447e",
   "metadata": {},
   "outputs": [
    {
     "data": {
      "image/png": "[encoded data removed]",
      "text/plain": [
       "<Figure size 432x288 with 1 Axes>"
      ]
     },
     "metadata": {
      "needs_background": "light"
     },
     "output_type": "display_data"
    }
   ],
   "source": [
    "# Plot Results\n",
    "grid = sb.lineplot(x=resultsA.Max_Sensors, y=resultsA.Expected_Bursts, label=\"A\")\n",
    "grid.set(xlabel=\"Number of sensors\", ylabel=\"Expected number of bursts detected\")\n",
    "plt.title(\"Burst detection performance as a function of sensors placed\")\n",
    "grid.set_xticks(range(1,21))\n",
    "grid.set_xticklabels(range(1,21))\n",
    "# plt.savefig(\"Problem A chart.png\")\n",
    "plt.show()"
   ]
  },
  {
   "cell_type": "markdown",
   "id": "5f2cff81-95c7-4986-93e7-71d86e92a891",
   "metadata": {},
   "source": [
    "# (C) Detection - Greedy Algorithm\n",
    "Instead, the operator wants to investigate a faster solution approach, where sensor locations are sequentially (and myopically) selected. Specifically, the operator takes their first sensor, and places it at the node that detects the maximum expected number of pipe bursts. Then, they take the second sensor, and places it at the node that detects the maximum expected number of pipe bursts that were not previously detected, and so on until all sensors are positioned.\n",
    "\n",
    "Code this iterative algorithm, and plot the resulting expected number of pipe bursts that are detected by that solution, as a function of the number of sensors available, $b ∈ [\\![ 0, 20 ]\\!]$. Compare this plot with the one obtained in part **(A)**."
   ]
  },
  {
   "cell_type": "markdown",
   "id": "b6108f38",
   "metadata": {},
   "source": [
    "Note: This greedy algorithm can also be implemented as an iterative filtering of columns in a dataframe. However, in line with the class learning objectives, we have implemented it as an integer program."
   ]
  },
  {
   "cell_type": "code",
   "execution_count": 14,
   "id": "3c705da3",
   "metadata": {},
   "outputs": [
    {
     "name": "stdout",
     "output_type": "stream",
     "text": [
      "Max_Sensors: 1, Status: Optimal, Objective_Fun: 391.0, Expected_Bursts: 39.1\n",
      "Nodes Placed: ['_N036']\n",
      "Max_Sensors: 2, Status: Optimal, Objective_Fun: 562.0, Expected_Bursts: 56.2\n",
      "Nodes Placed: ['_N036', '_N614']\n",
      "Max_Sensors: 3, Status: Optimal, Objective_Fun: 729.0, Expected_Bursts: 72.9\n",
      "Nodes Placed: ['_N024', '_N036', '_N614']\n",
      "Max_Sensors: 4, Status: Optimal, Objective_Fun: 805.0, Expected_Bursts: 80.5\n",
      "Nodes Placed: ['_N024', '_N036', '_N303', '_N614']\n",
      "Max_Sensors: 5, Status: Optimal, Objective_Fun: 864.0, Expected_Bursts: 86.4\n",
      "Nodes Placed: ['_N024', '_N036', '_N177', '_N303', '_N614']\n",
      "Max_Sensors: 6, Status: Optimal, Objective_Fun: 918.0, Expected_Bursts: 91.8\n",
      "Nodes Placed: ['_N024', '_N036', '_N177', '_N303', '_N614', '_N712']\n",
      "Max_Sensors: 7, Status: Optimal, Objective_Fun: 960.0, Expected_Bursts: 96.0\n",
      "Nodes Placed: ['_N024', '_N036', '_N177', '_N287', '_N303', '_N614', '_N712']\n",
      "Max_Sensors: 8, Status: Optimal, Objective_Fun: 994.0, Expected_Bursts: 99.4\n",
      "Nodes Placed: ['_N024', '_N036', '_N103', '_N177', '_N287', '_N303', '_N614', '_N712']\n",
      "Max_Sensors: 9, Status: Optimal, Objective_Fun: 1019.0, Expected_Bursts: 101.9\n",
      "Nodes Placed: ['_N024', '_N036', '_N103', '_N177', '_N287', '_N303', '_N614', '_N666', '_N712']\n",
      "Max_Sensors: 10, Status: Optimal, Objective_Fun: 1038.0, Expected_Bursts: 103.8\n",
      "Nodes Placed: ['_N024', '_N036', '_N103', '_N177', '_N267', '_N287', '_N303', '_N614', '_N666', '_N712']\n",
      "Max_Sensors: 11, Status: Optimal, Objective_Fun: 1056.0, Expected_Bursts: 105.6\n",
      "Nodes Placed: ['_N024', '_N036', '_N103', '_N177', '_N267', '_N287', '_N303', '_N439', '_N614', '_N666', '_N712']\n",
      "Max_Sensors: 12, Status: Optimal, Objective_Fun: 1069.0, Expected_Bursts: 106.9\n",
      "Nodes Placed: ['_N024', '_N036', '_N103', '_N177', '_N267', '_N287', '_N303', '_N439', '_N482', '_N614', '_N666', '_N712']\n",
      "Max_Sensors: 13, Status: Optimal, Objective_Fun: 1081.0, Expected_Bursts: 108.1\n",
      "Nodes Placed: ['_N024', '_N036', '_N103', '_N177', '_N267', '_N287', '_N303', '_N392', '_N439', '_N482', '_N614', '_N666', '_N712']\n",
      "Max_Sensors: 14, Status: Optimal, Objective_Fun: 1089.0, Expected_Bursts: 108.9\n",
      "Nodes Placed: ['_N024', '_N036', '_N103', '_N177', '_N267', '_N287', '_N303', '_N392', '_N439', '_N440', '_N482', '_N614', '_N666', '_N712']\n",
      "Max_Sensors: 15, Status: Optimal, Objective_Fun: 1096.0, Expected_Bursts: 109.6\n",
      "Nodes Placed: ['_N024', '_N036', '_N071', '_N103', '_N177', '_N267', '_N287', '_N303', '_N392', '_N439', '_N440', '_N482', '_N614', '_N666', '_N712']\n",
      "Max_Sensors: 16, Status: Optimal, Objective_Fun: 1102.0, Expected_Bursts: 110.2\n",
      "Nodes Placed: ['_N024', '_N036', '_N071', '_N103', '_N177', '_N267', '_N287', '_N303', '_N392', '_N439', '_N440', '_N482', '_N557', '_N614', '_N666', '_N712']\n",
      "Max_Sensors: 17, Status: Optimal, Objective_Fun: 1107.0, Expected_Bursts: 110.7\n",
      "Nodes Placed: ['_N024', '_N027', '_N036', '_N071', '_N103', '_N177', '_N267', '_N287', '_N303', '_N392', '_N439', '_N440', '_N482', '_N557', '_N614', '_N666', '_N712']\n",
      "Max_Sensors: 18, Status: Optimal, Objective_Fun: 1111.0, Expected_Bursts: 111.1\n",
      "Nodes Placed: ['_N024', '_N027', '_N036', '_N071', '_N103', '_N177', '_N267', '_N287', '_N303', '_N392', '_N439', '_N440', '_N482', '_N557', '_N589', '_N614', '_N666', '_N712']\n",
      "Max_Sensors: 19, Status: Optimal, Objective_Fun: 1114.0, Expected_Bursts: 111.4\n",
      "Nodes Placed: ['_N024', '_N027', '_N036', '_N071', '_N103', '_N177', '_N184', '_N267', '_N287', '_N303', '_N392', '_N439', '_N440', '_N482', '_N557', '_N589', '_N614', '_N666', '_N712']\n",
      "Max_Sensors: 20, Status: Optimal, Objective_Fun: 1116.0, Expected_Bursts: 111.6\n",
      "Nodes Placed: ['_N024', '_N027', '_N036', '_N071', '_N103', '_N177', '_N184', '_N267', '_N287', '_N303', '_N310', '_N392', '_N439', '_N440', '_N482', '_N557', '_N589', '_N614', '_N666', '_N712']\n"
     ]
    }
   ],
   "source": [
    "# Results list as DF and set\n",
    "df_listC = []\n",
    "selected_nodesC = set()\n",
    "\n",
    "# Iterate from 1 to 20 sensors\n",
    "for limit in range(1,21):\n",
    "    # Restore integer program from Problem A\n",
    "    problemC = copy.deepcopy(backup_problemA)\n",
    "    # Set sensor number constraint\n",
    "    problemC += lpSum([node_varsA[n] for n in nodelist]) <= limit\n",
    "    \n",
    "    if len(selected_nodesC) > 0:\n",
    "        for n in selected_nodesC:\n",
    "            problemC += node_varsA[n] == 1\n",
    "    problemC.solve(GUROBI_CMD(msg=False))\n",
    "    \n",
    "    opt = LpStatus[problemC.status]\n",
    "    of_val = value(problemC.objective)\n",
    "    np_list = []\n",
    "    for j, i in node_varsA.items():\n",
    "        if i.varValue != 0:\n",
    "            np_list.append(i.name)\n",
    "            selected_nodesC.update({i.name[1:]})\n",
    "            \n",
    "    # Output results\n",
    "    print('Max_Sensors: {}, Status: {}, Objective_Fun: {}, Expected_Bursts: {}'.format(limit, opt, of_val, of_val/10))\n",
    "    print('Nodes Placed: {}'.format(np_list))\n",
    "    # Append results to DF\n",
    "    df_listC.append(pd.DataFrame([[limit, opt, of_val, of_val/10, np_list]], \n",
    "                                columns = ['Max_Sensors', 'Status', 'Objective_Fun', 'Expected_Bursts', 'Nodes_Placed']))"
   ]
  },
  {
   "cell_type": "code",
   "execution_count": 15,
   "id": "6d952768",
   "metadata": {},
   "outputs": [],
   "source": [
    "# Compile Results\n",
    "resultsC = pd.concat(df_listC).reset_index(drop=True)"
   ]
  },
  {
   "cell_type": "code",
   "execution_count": 16,
   "id": "89ffcecb",
   "metadata": {},
   "outputs": [
    {
     "data": {
      "image/png": "[encoded data removed]",
      "text/plain": [
       "<Figure size 432x288 with 1 Axes>"
      ]
     },
     "metadata": {
      "needs_background": "light"
     },
     "output_type": "display_data"
    }
   ],
   "source": [
    "# Plot Results\n",
    "\n",
    "#plt.plot(resultsA.Max_Sensors, resultsA.Expected_Bursts, label = 'A')\n",
    "#plt.plot(resultsC.Max_Sensors, resultsC.Expected_Bursts, label = 'C')\n",
    "#plt.legend()\n",
    "\n",
    "grid = sb.lineplot(x=resultsA.Max_Sensors, y=resultsA.Expected_Bursts, label=\"Optimal placement\")\n",
    "grid.set(xlabel=\"Number of sensors\", ylabel=\"Expected number of bursts detected\")\n",
    "grid.set_xticks(range(1,21))\n",
    "grid.set_xticklabels(range(1,21))\n",
    "sb.lineplot(x=resultsC.Max_Sensors, y=resultsC.Expected_Bursts, label=\"Greedy placement\")\n",
    "plt.title(\"Burst detection performance as a function of sensors placed\")\n",
    "# plt.savefig(\"Problem C chart.png\")\n",
    "plt.show()"
   ]
  },
  {
   "cell_type": "markdown",
   "id": "dcce1a8f-160f-4d56-8d05-79d98ba04ebc",
   "metadata": {},
   "source": [
    "# (E) Unmonitored Criticality - Minimize the Maximum Criticality of an Unmonitored Pipe\n",
    "It turns out that some pipes are more critical than others, depending on their locations. For example, a pipe burst next to a hospital will be more problematic than a pipe burst in a remote area. Each pipe $e ∈ E$ is assigned a criticality level $w_e ∈ [0, 1]$. The higher we is, the more critical pipe $e$ is. The goal of the network operator is to position their $b$ sensors as to minimize the highest criticality of a pipe that is not detected by any sensor. Formulate this problem as an IP.\n",
    "\n",
    "Code and solve the optimization model formulated for $b ∈ [\\![ 0, 20 ]\\!]$ using Gurobi Solver. Plot and analyze the optimal value of the problem as a function of the number of sensors $b$."
   ]
  },
  {
   "cell_type": "code",
   "execution_count": 17,
   "id": "415aff0c",
   "metadata": {},
   "outputs": [],
   "source": [
    "# Initialize Variables\n",
    "node_varsE = LpVariable.dicts(\"\",pd_DM.columns,0,1,cat='Binary')\n",
    "pipe_varsE = LpVariable.dicts(\"\",pd_DM.index,0,1,cat='Binary')\n",
    "constraint_varsE = LpVariable.dicts(\"const_\",pd_DM.index,0,1,cat='Binary')\n",
    "auxz = LpVariable(\"Z\")\n",
    "\n",
    "#Min Max problem: Min Z\n",
    "problemE = LpProblem(\"Sensor_Placement\", LpMinimize)\n",
    "problemE += auxz #that's the objective\n",
    "\n",
    "#Subject to z + yiwi >= (1 - xi) * wi where xi is a detected pipe and wi is its criticality\n",
    "# z >= (1 - xi) * wi - yiwi\n",
    "for pid, pipe in pipe_varsE.items():\n",
    "    problemE += auxz >= (1 - pipe) * pd_crit_int[pid]\n",
    "\n",
    "#Here, every pipe binary var is given a criticality weight and we optimize weighted sum\n",
    "#problemE = LpProblem(\"Sensor_Placement\", LpMaximize)\n",
    "#problemE += lpSum([pipe * pd_crit_int[pid] for pid, pipe in pipe_varsE.items()])\n",
    "\n",
    "# + Same constraints as before\n",
    "for n in nodelist:\n",
    "    for p in pd_DM[n][pd_DM[n] == 1].index:\n",
    "        problemE += pipe_varsE[p] >= node_varsE[n]\n",
    "        \n",
    "for p in pipelist:\n",
    "    problemE += pipe_varsE[p] <= lpSum([node_varsE[n] \n",
    "                 for n in pd_DM.loc[p][pd_DM.loc[p] == 1].index])"
   ]
  },
  {
   "cell_type": "code",
   "execution_count": 18,
   "id": "751167fc",
   "metadata": {},
   "outputs": [],
   "source": [
    "backup_problemE = copy.deepcopy(problemE)"
   ]
  },
  {
   "cell_type": "code",
   "execution_count": 19,
   "id": "f740ac0f",
   "metadata": {},
   "outputs": [
    {
     "name": "stdout",
     "output_type": "stream",
     "text": [
      "Max_Sensors: 1, Status: Optimal, Objective_Fun (Max_Criticality): 100.0\n",
      "Nodes Placed: ['_N729']\n",
      "Pipes covered: 0\n",
      "Avg criticality covered: nan\n",
      "Max_Sensors: 2, Status: Optimal, Objective_Fun (Max_Criticality): 100.0\n",
      "Nodes Placed: ['_N660', '_N729']\n",
      "Pipes covered: 2\n",
      "Avg criticality covered: 0.7\n",
      "Max_Sensors: 3, Status: Optimal, Objective_Fun (Max_Criticality): 100.0\n",
      "Nodes Placed: ['_N000', '_N660', '_N729']\n",
      "Pipes covered: 10\n",
      "Avg criticality covered: 0.5110000000000001\n",
      "Max_Sensors: 4, Status: Optimal, Objective_Fun (Max_Criticality): 99.0\n",
      "Nodes Placed: ['_N061', '_N199', '_N215', '_N756']\n",
      "Pipes covered: 709\n",
      "Avg criticality covered: 0.4954724964739074\n",
      "Max_Sensors: 5, Status: Optimal, Objective_Fun (Max_Criticality): 99.0\n",
      "Nodes Placed: ['_N215', '_N325', '_N460', '_N585', '_N699']\n",
      "Pipes covered: 738\n",
      "Avg criticality covered: 0.4950406504065044\n",
      "Max_Sensors: 6, Status: Optimal, Objective_Fun (Max_Criticality): 97.0\n",
      "Nodes Placed: ['_N014', '_N103', '_N128', '_N207', '_N615', '_N719']\n",
      "Pipes covered: 872\n",
      "Avg criticality covered: 0.500149082568808\n",
      "Max_Sensors: 7, Status: Optimal, Objective_Fun (Max_Criticality): 96.0\n",
      "Nodes Placed: ['_N026', '_N067', '_N298', '_N326', '_N407', '_N540', '_N572']\n",
      "Pipes covered: 879\n",
      "Avg criticality covered: 0.49510807736063767\n",
      "Max_Sensors: 8, Status: Optimal, Objective_Fun (Max_Criticality): 95.0\n",
      "Nodes Placed: ['_N067', '_N103', '_N207', '_N255', '_N619', '_N676', '_N764', '_N779']\n",
      "Pipes covered: 1005\n",
      "Avg criticality covered: 0.494029850746269\n",
      "Max_Sensors: 9, Status: Optimal, Objective_Fun (Max_Criticality): 93.0\n",
      "Nodes Placed: ['_N026', '_N028', '_N067', '_N093', '_N127', '_N207', '_N245', '_N498', '_N638']\n",
      "Pipes covered: 942\n",
      "Avg criticality covered: 0.4972505307855631\n",
      "Max_Sensors: 10, Status: Optimal, Objective_Fun (Max_Criticality): 93.0\n",
      "Nodes Placed: ['_N103', '_N171', '_N203', '_N207', '_N425', '_N454', '_N498', '_N555', '_N638', '_N806']\n",
      "Pipes covered: 1021\n",
      "Avg criticality covered: 0.49741429970617096\n",
      "Max_Sensors: 11, Status: Optimal, Objective_Fun (Max_Criticality): 82.0\n",
      "Nodes Placed: ['_N028', '_N067', '_N079', '_N103', '_N197', '_N207', '_N255', '_N333', '_N455', '_N554', '_N698']\n",
      "Pipes covered: 1033\n",
      "Avg criticality covered: 0.4981897386253637\n",
      "Max_Sensors: 12, Status: Optimal, Objective_Fun (Max_Criticality): 81.0\n",
      "Nodes Placed: ['_N026', '_N058', '_N067', '_N194', '_N215', '_N255', '_N333', '_N383', '_N498', '_N604', '_N760', '_N806']\n",
      "Pipes covered: 1024\n",
      "Avg criticality covered: 0.4975683593750006\n",
      "Max_Sensors: 13, Status: Optimal, Objective_Fun (Max_Criticality): 78.0\n",
      "Nodes Placed: ['_N058', '_N078', '_N102', '_N103', '_N206', '_N215', '_N243', '_N277', '_N537', '_N619', '_N683', '_N712', '_N764']\n",
      "Pipes covered: 1073\n",
      "Avg criticality covered: 0.4960298229263755\n",
      "Max_Sensors: 14, Status: Optimal, Objective_Fun (Max_Criticality): 78.0\n",
      "Nodes Placed: ['_N027', '_N046', '_N078', '_N103', '_N194', '_N206', '_N215', '_N261', '_N277', '_N287', '_N336', '_N554', '_N619', '_N712']\n",
      "Pipes covered: 1086\n",
      "Avg criticality covered: 0.4951197053407007\n",
      "Max_Sensors: 15, Status: Optimal, Objective_Fun (Max_Criticality): 64.0\n",
      "Nodes Placed: ['_N059', '_N078', '_N142', '_N190', '_N206', '_N243', '_N277', '_N329', '_N377', '_N424', '_N705', '_N712', '_N728', '_N748', '_N764']\n",
      "Pipes covered: 1091\n",
      "Avg criticality covered: 0.49655362053162333\n",
      "Max_Sensors: 16, Status: Optimal, Objective_Fun (Max_Criticality): 56.0\n",
      "Nodes Placed: ['_N077', '_N078', '_N103', '_N206', '_N243', '_N277', '_N343', '_N392', '_N415', '_N426', '_N465', '_N482', '_N557', '_N712', '_N748', '_N798']\n",
      "Pipes covered: 1115\n",
      "Avg criticality covered: 0.49356950672645833\n",
      "Max_Sensors: 17, Status: Optimal, Objective_Fun (Max_Criticality): 49.0\n",
      "Nodes Placed: ['_N028', '_N072', '_N078', '_N103', '_N206', '_N261', '_N314', '_N384', '_N391', '_N392', '_N415', '_N424', '_N454', '_N465', '_N482', '_N712', '_N764']\n",
      "Pipes covered: 1117\n",
      "Avg criticality covered: 0.4931602506714423\n",
      "Max_Sensors: 18, Status: Optimal, Objective_Fun (Max_Criticality): 12.0\n",
      "Nodes Placed: ['_N058', '_N078', '_N103', '_N164', '_N215', '_N233', '_N277', '_N334', '_N355', '_N392', '_N394', '_N415', '_N482', '_N664', '_N705', '_N712', '_N720', '_N745']\n",
      "Pipes covered: 1121\n",
      "Avg criticality covered: 0.493122212310438\n",
      "Max_Sensors: 19, Status: Optimal, Objective_Fun (Max_Criticality): 0.0\n",
      "Nodes Placed: ['_N002', '_N058', '_N184', '_N262', '_N267', '_N277', '_N311', '_N312', '_N380', '_N384', '_N439', '_N454', '_N478', '_N482', '_N607', '_N709', '_N712', '_N722', '_N798']\n",
      "Pipes covered: 1123\n",
      "Avg criticality covered: 0.4923597506678549\n",
      "Max_Sensors: 20, Status: Optimal, Objective_Fun (Max_Criticality): 0.0\n",
      "Nodes Placed: ['_N017', '_N058', '_N071', '_N078', '_N127', '_N153', '_N206', '_N233', '_N265', '_N377', '_N380', '_N384', '_N429', '_N454', '_N482', '_N587', '_N591', '_N712', '_N720', '_N728']\n",
      "Pipes covered: 1123\n",
      "Avg criticality covered: 0.4923597506678549\n"
     ]
    }
   ],
   "source": [
    "# Results list as DF\n",
    "df_listE = []\n",
    "\n",
    "# Finding affected pipes\n",
    "def get_affected_pipes(np_list):\n",
    "    nodes = [n[1:] for n in np_list]    \n",
    "    affected_pipes = pd_DM.loc[:,nodes].apply(lambda x: sum(x), axis=1)\n",
    "    return (len(affected_pipes[affected_pipes > 0].index), pd_crit.loc[affected_pipes[affected_pipes > 0].index, \"Node\"].mean())    \n",
    "\n",
    "for limit in range(1, 21):\n",
    "    problemE = copy.deepcopy(backup_problemE)    \n",
    "    problemE += lpSum([node_varsE[n] for n in nodelist]) == limit\n",
    "    \n",
    "    problemE.solve(GUROBI_CMD(msg=False))\n",
    "    \n",
    "    opt = LpStatus[problemE.status]\n",
    "    of_val = value(problemE.objective)\n",
    "    np_list = []\n",
    "    for j, i in node_varsE.items():\n",
    "        if i.varValue != 0:\n",
    "            np_list.append(i.name)\n",
    "    \n",
    "    print('Max_Sensors: {}, Status: {}, Objective_Fun (Max_Criticality): {}'.format(limit, opt, of_val))\n",
    "    print('Nodes Placed: {}'.format(np_list))\n",
    "    no_pipes, avg_crit = get_affected_pipes(np_list)\n",
    "    print('Pipes covered: {}'.format(no_pipes))\n",
    "    print('Avg criticality covered: {}'.format(avg_crit))\n",
    "    df_listE.append(pd.DataFrame([[limit, opt, of_val, no_pipes, avg_crit, np_list]], \n",
    "                                columns = ['Max_Sensors', 'Status', 'Objective_Fun', 'Pipes covered', \"Avg criticality covered\", 'Nodes_Placed']))"
   ]
  },
  {
   "cell_type": "code",
   "execution_count": 20,
   "id": "fbb39382",
   "metadata": {},
   "outputs": [],
   "source": [
    "# Compile Results\n",
    "resultsE = pd.concat(df_listE).reset_index(drop=True)"
   ]
  },
  {
   "cell_type": "code",
   "execution_count": 21,
   "id": "4551e231",
   "metadata": {},
   "outputs": [],
   "source": [
    "# pd_DM.sum(axis = 0).sort_values(ascending = False)[:10].sort_index()"
   ]
  },
  {
   "cell_type": "code",
   "execution_count": 22,
   "id": "30f870a5",
   "metadata": {},
   "outputs": [
    {
     "data": {
      "image/png": "[encoded data removed]",
      "text/plain": [
       "<Figure size 432x288 with 1 Axes>"
      ]
     },
     "metadata": {
      "needs_background": "light"
     },
     "output_type": "display_data"
    }
   ],
   "source": [
    "# Plot Results\n",
    "grid = sb.lineplot(x=resultsE.Max_Sensors, y=resultsE.Objective_Fun)\n",
    "grid.set(xlabel=\"Number of sensors\", ylabel=\"Max pipe criticality not detected\")\n",
    "plt.title(\"Burst detection performance as a function of sensors placed\")\n",
    "grid.set_xticks(range(1,21))\n",
    "grid.set_xticklabels(range(1,21))\n",
    "# plt.savefig(\"Problem E chart.png\")\n",
    "plt.show()"
   ]
  },
  {
   "cell_type": "code",
   "execution_count": 23,
   "id": "b7bcba04",
   "metadata": {},
   "outputs": [
    {
     "data": {
      "image/png": "[encoded data removed]",
      "text/plain": [
       "<Figure size 864x432 with 2 Axes>"
      ]
     },
     "metadata": {
      "needs_background": "light"
     },
     "output_type": "display_data"
    }
   ],
   "source": [
    "# Plot Sensor Performance (Avg Criticality) vs Total System Coverage\n",
    "fig, ax1 = plt.subplots(figsize=(12,6))\n",
    "grid = sb.barplot(x=resultsE.Max_Sensors, y=resultsE['Pipes covered'], ax=ax1, color=\"grey\")\n",
    "grid.set(xlabel=\"Number of sensors\", ylabel=\"Number of pipes covered\")\n",
    "ax2 = ax1.twinx()\n",
    "grid = sb.lineplot(x=resultsE.Max_Sensors, y=resultsE['Avg criticality covered'], ax=ax2, color=\"red\")\n",
    "grid.set(xlabel=\"Number of sensors\", ylabel=\"Avg. detected criticality\")\n",
    "plt.title(\"Burst detection performance as a function of sensors placed\")\n",
    "grid.set_xticks(range(1,21))\n",
    "grid.set_xticklabels(range(1,21))\n",
    "# plt.savefig(\"Problem E chart - pipe_choice.png\")\n",
    "plt.show()"
   ]
  },
  {
   "cell_type": "markdown",
   "id": "f914fccd-bb7d-4211-8cf4-1aa6518c6c3a",
   "metadata": {},
   "source": [
    "# (EU) Unmonitored Criticality - Minimize the Average Criticality of all Unmonitored Pipes\n",
    "Beyond the scope of the project requirements, we further improved the existing mathematical program in part (E). From the results above, with 1-3 sensors placed, there is still at least 1 node with criticality of 100. Therefore, in the instance of 1 sensor placed, the MP appears to place it in a location where no pipes are covered. To retify this counterintutive behavior, the objective function is modified to include an additional term, the average number of detected pipes weighted by criticality, shown below. $$\\frac{1}{1123}\\sum^{1123}_{j=1}P_jw_j$$ This term is subtracted from the original maximum criticality such that the solver will select nodes that maximize the criticality of detected pipes when there are multiple solutions."
   ]
  },
  {
   "cell_type": "code",
   "execution_count": 27,
   "id": "a5bd34af-0b6b-42dd-b02c-0e8ab5df765b",
   "metadata": {},
   "outputs": [],
   "source": [
    "# Initialize Variables\n",
    "node_varsEU = LpVariable.dicts(\"\",pd_DM.columns,0,1,cat='Binary')\n",
    "pipe_varsEU = LpVariable.dicts(\"\",pd_DM.index,0,1,cat='Binary')\n",
    "constraint_varsEU = LpVariable.dicts(\"const_\",pd_DM.index,0,1,cat='Binary')\n",
    "auxz = LpVariable(\"Z\")\n",
    "\n",
    "#Min Max problem: Min Z\n",
    "problemEU = LpProblem(\"Sensor_Placement\", LpMinimize)\n",
    "problemEU += auxz - lpSum([pipe * pd_crit_int[pid]/100 for pid, pipe in pipe_varsEU.items()]) / 1123  #that's the objective\n",
    "\n",
    "#Subject to z + yiwi >= (1 - xi) * wi where xi is a detected pipe and wi is its criticality\n",
    "# z >= (1 - xi) * wi - yiwi\n",
    "for pid, pipe in pipe_varsEU.items():\n",
    "    problemEU += auxz >= (1 - pipe) * pd_crit_int[pid]\n",
    "\n",
    "#Here, every pipe binary var is given a criticality weight and we optimize weighted sum\n",
    "#problemE = LpProblem(\"Sensor_Placement\", LpMaximize)\n",
    "#problemE += lpSum([pipe * pd_crit_int[pid] for pid, pipe in pipe_varsE.items()])\n",
    "\n",
    "# + Same constraints as before\n",
    "for n in nodelist:\n",
    "    for p in pd_DM[n][pd_DM[n] == 1].index:\n",
    "        problemEU += pipe_varsEU[p] >= node_varsEU[n]\n",
    "        \n",
    "for p in pipelist:\n",
    "    problemEU += pipe_varsEU[p] <= lpSum([node_varsEU[n] \n",
    "                 for n in pd_DM.loc[p][pd_DM.loc[p] == 1].index])"
   ]
  },
  {
   "cell_type": "code",
   "execution_count": 28,
   "id": "988b9703-7566-49a3-8bd4-a321b17ed91c",
   "metadata": {},
   "outputs": [
    {
     "name": "stdout",
     "output_type": "stream",
     "text": [
      "Max_Sensors: 1, Status: Optimal, Objective_Fun: 99.82934995547642\n",
      "Nodes Placed: ['_N036']\n",
      "Pipes covered: 391\n",
      "Avg criticality covered: 0.4901278772378515\n",
      "Max_Sensors: 2, Status: Optimal, Objective_Fun: 99.74664292074797\n",
      "Nodes Placed: ['_N042', '_N614']\n",
      "Pipes covered: 582\n",
      "Avg criticality covered: 0.48886597938144344\n",
      "Max_Sensors: 3, Status: Optimal, Objective_Fun: 99.67711487088151\n",
      "Nodes Placed: ['_N024', '_N041', '_N129']\n",
      "Pipes covered: 732\n",
      "Avg criticality covered: 0.49535519125683103\n",
      "Max_Sensors: 4, Status: Optimal, Objective_Fun: 98.66349955476403\n",
      "Nodes Placed: ['_N207', '_N477', '_N585', '_N690']\n",
      "Pipes covered: 762\n",
      "Avg criticality covered: 0.4959186351706042\n",
      "Max_Sensors: 5, Status: Optimal, Objective_Fun: 98.60813891362423\n",
      "Nodes Placed: ['_N024', '_N207', '_N287', '_N471', '_N756']\n",
      "Pipes covered: 882\n",
      "Avg criticality covered: 0.4989342403628123\n",
      "Max_Sensors: 6, Status: Optimal, Objective_Fun: 96.60097061442566\n",
      "Nodes Placed: ['_N014', '_N024', '_N103', '_N207', '_N287', '_N595']\n",
      "Pipes covered: 892\n",
      "Avg criticality covered: 0.5023654708520184\n",
      "Max_Sensors: 7, Status: Optimal, Objective_Fun: 95.57647373107743\n",
      "Nodes Placed: ['_N067', '_N103', '_N207', '_N646', '_N672', '_N712', '_N764']\n",
      "Pipes covered: 962\n",
      "Avg criticality covered: 0.49440748440748494\n",
      "Max_Sensors: 8, Status: Optimal, Objective_Fun: 94.55552983081029\n",
      "Nodes Placed: ['_N067', '_N103', '_N135', '_N207', '_N405', '_N450', '_N455', '_N714']\n",
      "Pipes covered: 1002\n",
      "Avg criticality covered: 0.49814371257485085\n",
      "Max_Sensors: 9, Status: Optimal, Objective_Fun: 92.55299198575236\n",
      "Nodes Placed: ['_N067', '_N103', '_N142', '_N207', '_N362', '_N426', '_N619', '_N638', '_N712']\n",
      "Pipes covered: 1014\n",
      "Avg criticality covered: 0.49505917159763346\n",
      "Max_Sensors: 10, Status: Optimal, Objective_Fun: 92.53509349955468\n",
      "Nodes Placed: ['_N027', '_N067', '_N103', '_N207', '_N243', '_N255', '_N465', '_N619', '_N712', '_N798']\n",
      "Pipes covered: 1054\n",
      "Avg criticality covered: 0.49534155597722995\n",
      "Max_Sensors: 11, Status: Optimal, Objective_Fun: 81.5357969723953\n",
      "Nodes Placed: ['_N027', '_N067', '_N103', '_N207', '_N255', '_N333', '_N455', '_N554', '_N619', '_N712', '_N760']\n",
      "Pipes covered: 1051\n",
      "Avg criticality covered: 0.49600380589914406\n",
      "Max_Sensors: 12, Status: Optimal, Objective_Fun: 80.52829029385563\n",
      "Nodes Placed: ['_N059', '_N062', '_N067', '_N103', '_N206', '_N333', '_N528', '_N619', '_N705', '_N712', '_N714', '_N764']\n",
      "Pipes covered: 1067\n",
      "Avg criticality covered: 0.4964667291471422\n",
      "Max_Sensors: 13, Status: Optimal, Objective_Fun: 77.52113089937657\n",
      "Nodes Placed: ['_N058', '_N063', '_N078', '_N103', '_N206', '_N261', '_N277', '_N384', '_N619', '_N712', '_N714', '_N748', '_N764']\n",
      "Pipes covered: 1085\n",
      "Avg criticality covered: 0.4956405529953926\n",
      "Max_Sensors: 14, Status: Optimal, Objective_Fun: 77.51742653606401\n",
      "Nodes Placed: ['_N058', '_N072', '_N078', '_N103', '_N112', '_N142', '_N206', '_N261', '_N277', '_N465', '_N557', '_N619', '_N712', '_N786']\n",
      "Pipes covered: 1095\n",
      "Avg criticality covered: 0.49491324200913334\n",
      "Max_Sensors: 15, Status: Optimal, Objective_Fun: 63.5132146037399\n",
      "Nodes Placed: ['_N059', '_N103', '_N206', '_N267', '_N277', '_N333', '_N394', '_N415', '_N424', '_N465', '_N482', '_N493', '_N528', '_N705', '_N712']\n",
      "Pipes covered: 1105\n",
      "Avg criticality covered: 0.4947149321266978\n",
      "Max_Sensors: 16, Status: Optimal, Objective_Fun: 55.51006233303642\n",
      "Nodes Placed: ['_N059', '_N078', '_N103', '_N206', '_N261', '_N277', '_N392', '_N394', '_N415', '_N424', '_N465', '_N482', '_N528', '_N537', '_N712', '_N764']\n",
      "Pipes covered: 1115\n",
      "Avg criticality covered: 0.49345291479820724\n",
      "Max_Sensors: 17, Status: Optimal, Objective_Fun: 48.509065004452275\n",
      "Nodes Placed: ['_N016', '_N058', '_N077', '_N078', '_N103', '_N141', '_N206', '_N277', '_N333', '_N334', '_N415', '_N465', '_N482', '_N513', '_N537', '_N712', '_N748']\n",
      "Pipes covered: 1118\n",
      "Avg criticality covered: 0.49313059033989365\n",
      "Max_Sensors: 18, Status: Optimal, Objective_Fun: 11.507756010685569\n",
      "Nodes Placed: ['_N072', '_N078', '_N103', '_N164', '_N184', '_N233', '_N277', '_N334', '_N355', '_N380', '_N384', '_N394', '_N415', '_N426', '_N439', '_N472', '_N482', '_N712']\n",
      "Pipes covered: 1121\n",
      "Avg criticality covered: 0.493122212310438\n",
      "Max_Sensors: 19, Status: Optimal, Objective_Fun: -0.4923597506678545\n",
      "Nodes Placed: ['_N058', '_N078', '_N156', '_N185', '_N207', '_N262', '_N265', '_N287', '_N312', '_N326', '_N482', '_N528', '_N537', '_N572', '_N587', '_N655', '_N706', '_N712', '_N725']\n",
      "Pipes covered: 1123\n",
      "Avg criticality covered: 0.4923597506678549\n",
      "Max_Sensors: 20, Status: Optimal, Objective_Fun: -0.4923597506678545\n",
      "Nodes Placed: ['_N058', '_N078', '_N262', '_N287', '_N305', '_N311', '_N314', '_N383', '_N391', '_N405', '_N439', '_N452', '_N478', '_N482', '_N513', '_N587', '_N709', '_N712', '_N787', '_N798']\n",
      "Pipes covered: 1123\n",
      "Avg criticality covered: 0.4923597506678549\n"
     ]
    }
   ],
   "source": [
    "backup_problemEU = copy.deepcopy(problemEU)\n",
    "df_listEU = []\n",
    "\n",
    "#Finding affected pipes\n",
    "def get_affected_pipes(np_list):\n",
    "    nodes = [n[1:] for n in np_list]    \n",
    "    affected_pipes = pd_DM.loc[:,nodes].apply(lambda x: sum(x), axis=1)\n",
    "    return (len(affected_pipes[affected_pipes > 0].index), pd_crit.loc[affected_pipes[affected_pipes > 0].index, \"Node\"].mean())    \n",
    "\n",
    "for limit in range(1, 21):\n",
    "    problemEU = copy.deepcopy(backup_problemEU)    \n",
    "    problemEU += lpSum([node_varsEU[n] for n in nodelist]) == limit\n",
    "    \n",
    "    problemEU.solve(GUROBI_CMD(msg=False))\n",
    "    \n",
    "    opt = LpStatus[problemEU.status]\n",
    "    of_val = value(problemEU.objective)\n",
    "    np_list = []\n",
    "    for j, i in node_varsEU.items():\n",
    "        if i.varValue != 0:\n",
    "            np_list.append(i.name)\n",
    "    \n",
    "    print('Max_Sensors: {}, Status: {}, Objective_Fun: {}'.format(limit, opt, of_val))\n",
    "    print('Nodes Placed: {}'.format(np_list))\n",
    "    no_pipes, avg_crit = get_affected_pipes(np_list)\n",
    "    print('Pipes covered: {}'.format(no_pipes))\n",
    "    print('Avg criticality covered: {}'.format(avg_crit))\n",
    "    df_listEU.append(pd.DataFrame([[limit, opt, of_val, no_pipes, avg_crit, np_list]], \n",
    "                                columns = ['Max_Sensors', 'Status', 'Objective_Fun', 'Pipes covered', \"Avg criticality covered\", 'Nodes_Placed']))"
   ]
  },
  {
   "cell_type": "code",
   "execution_count": null,
   "id": "a487fcfa-5d08-45f2-871e-48ca00a2b6eb",
   "metadata": {},
   "outputs": [],
   "source": [
    "# Compile Results\n",
    "resultsEU = pd.concat(df_listEU).reset_index(drop=True)"
   ]
  },
  {
   "cell_type": "code",
   "execution_count": null,
   "id": "8662c4d9-2e53-4f54-bc55-ac77cbab3dd4",
   "metadata": {},
   "outputs": [
    {
     "data": {
      "image/png": "[encoded data removed]",
      "text/plain": [
       "<Figure size 432x288 with 1 Axes>"
      ]
     },
     "metadata": {
      "needs_background": "light"
     },
     "output_type": "display_data"
    }
   ],
   "source": [
    "# Plot Results\n",
    "grid = sb.lineplot(x=resultsEU.Max_Sensors, y=resultsEU.Objective_Fun)\n",
    "grid.set(xlabel=\"Number of sensors\", ylabel=\"Max pipe criticality not detected\")\n",
    "plt.title(\"Burst detection performance as a function of sensors placed\")\n",
    "grid.set_xticks(range(1,21))\n",
    "grid.set_xticklabels(range(1,21))\n",
    "# plt.savefig(\"Problem EU chart.png\")\n",
    "plt.show()"
   ]
  },
  {
   "cell_type": "code",
   "execution_count": null,
   "id": "9b9ffd75-2932-4837-84d5-97a3092bae6e",
   "metadata": {},
   "outputs": [
    {
     "data": {
      "image/png": "[encoded data removed]",
      "text/plain": [
       "<Figure size 864x432 with 2 Axes>"
      ]
     },
     "metadata": {
      "needs_background": "light"
     },
     "output_type": "display_data"
    }
   ],
   "source": [
    "# Plot Sensor Performance (Avg Criticality) vs Total System Coverage\n",
    "fig, ax1 = plt.subplots(figsize=(12,6))\n",
    "grid = sb.barplot(x=resultsEU.Max_Sensors, y=resultsEU['Pipes covered'], ax=ax1, color=\"grey\")\n",
    "grid.set(xlabel=\"Number of sensors\", ylabel=\"Number of pipes covered\")\n",
    "ax2 = ax1.twinx()\n",
    "grid = sb.lineplot(x=resultsEU.Max_Sensors, y=resultsEU['Avg criticality covered'], ax=ax2, color=\"red\")\n",
    "grid.set(xlabel=\"Number of sensors\", ylabel=\"Avg. detected criticality\")\n",
    "plt.title(\"Burst detection performance as a function of sensors placed\")\n",
    "grid.set_xticks(range(1,21))\n",
    "grid.set_xticklabels(range(1,21))\n",
    "# plt.savefig(\"Problem EU chart - pipe_choice.png\")\n",
    "plt.show()"
   ]
  },
  {
   "cell_type": "code",
   "execution_count": null,
   "id": "48ac7526",
   "metadata": {},
   "outputs": [],
   "source": []
  }
 ],
 "metadata": {
  "kernelspec": {
   "display_name": "Python 3 (ipykernel)",
   "language": "python",
   "name": "python3"
  },
  "language_info": {
   "codemirror_mode": {
    "name": "ipython",
    "version": 3
   },
   "file_extension": ".py",
   "mimetype": "text/x-python",
   "name": "python",
   "nbconvert_exporter": "python",
   "pygments_lexer": "ipython3",
   "version": "3.9.5"
  }
 },
 "nbformat": 4,
 "nbformat_minor": 5
}
